{
 "cells": [
  {
   "cell_type": "code",
   "execution_count": 3,
   "metadata": {},
   "outputs": [
    {
     "name": "stdout",
     "output_type": "stream",
     "text": [
      "[30, 100, 90, 83, 14, 88, 44, 28, 65, 39, 85, 86, 91, 53, 68, 94, 64, 94, 92, 80]\n"
     ]
    }
   ],
   "source": [
    "import random\n",
    "a=[random.randint(10,100)for n in range(20)]\n",
    "print(a)"
   ]
  },
  {
   "cell_type": "code",
   "execution_count": 8,
   "metadata": {},
   "outputs": [
    {
     "name": "stdout",
     "output_type": "stream",
     "text": [
      "[(0, 0, 0), (1, 1, 1), (2, 4, 8), (3, 9, 27), (4, 16, 64), (5, 25, 125), (6, 36, 216), (7, 49, 343), (8, 64, 512), (9, 81, 729)]\n",
      "[10, 20, 30, 40, 60]\n",
      "[10, 60]\n"
     ]
    }
   ],
   "source": [
    "a=[(x,x**2,x**3)for x in range(10)]\n",
    "print(a)\n",
    "a=[int(x)for x in ['10','20','30','40','60']]\n",
    "print(a)\n",
    "a=[num for num in a if num<20 or num>50]\n",
    "print (a)"
   ]
  },
  {
   "cell_type": "code",
   "execution_count": 11,
   "metadata": {},
   "outputs": [
    {
     "name": "stdout",
     "output_type": "stream",
     "text": [
      "[1, 2, 3, 4, 5, 6, 7, 8, 8, 9, 10]\n",
      "[1, 2, 3, 4, 5, 6, 7, 8, 8, 9, 10]\n"
     ]
    }
   ],
   "source": [
    "arr=[[1,2,3,4],[5,6,7,8],[8,9,10]]\n",
    "b=[n for ele in arr for n in ele]\n",
    "print(b)\n",
    "c=[*arr[0],*arr[1],*arr[2]]\n",
    "print(c)"
   ]
  },
  {
   "cell_type": "code",
   "execution_count": 14,
   "metadata": {},
   "outputs": [
    {
     "name": "stdout",
     "output_type": "stream",
     "text": [
      "[4, 5, 6, 5, 6, 7, 6, 7, 8]\n",
      "[[4, 5, 6], [5, 6, 7], [6, 7, 8]]\n"
     ]
    }
   ],
   "source": [
    "list=[a+b for a in [1,2,3] for b in [3,4,5]] #Nested for\n",
    "print(list)\n",
    "list =[[a+b for a in [1,2,3]]for b in [3,4,5]]\n",
    "print(list)"
   ]
  },
  {
   "cell_type": "code",
   "execution_count": 15,
   "metadata": {},
   "outputs": [
    {
     "name": "stdout",
     "output_type": "stream",
     "text": [
      "[(1, 2, 3), (1, 3, 2), (2, 1, 3), (2, 3, 1), (3, 1, 2), (3, 2, 1)]\n"
     ]
    }
   ],
   "source": [
    "ls=[(i,j,k)for i in [1,2,3] for j in [1,2,3] for k in [1,2,3] if i!=j and j!=k and k!=i]\n",
    "print(ls)"
   ]
  },
  {
   "cell_type": "code",
   "execution_count": 16,
   "metadata": {},
   "outputs": [
    {
     "name": "stdout",
     "output_type": "stream",
     "text": [
      "{0, 1, 64, 4, 36, 9, 16, 49, 81, 25}\n"
     ]
    }
   ],
   "source": [
    "a={x**2 for x in range(10)}\n",
    "print(a)"
   ]
  },
  {
   "cell_type": "code",
   "execution_count": 17,
   "metadata": {},
   "outputs": [
    {
     "name": "stdout",
     "output_type": "stream",
     "text": [
      "[4, 8, 12, 16, 20, 24, 28, 32, 36, 40, 44, 48]\n"
     ]
    }
   ],
   "source": [
    "li=[i for i in range(2,51) if i%2 == 0 and i%4 == 0]\n",
    "print(li)"
   ]
  },
  {
   "cell_type": "code",
   "execution_count": 19,
   "metadata": {},
   "outputs": [
    {
     "name": "stdout",
     "output_type": "stream",
     "text": [
      "[1, 2, 3, 4, 5, 6, 7, 8, 9, 10, 11, 12]\n"
     ]
    }
   ],
   "source": [
    "mat =[[1,2,3,4],[5,6,7,8],[9,10,11,12]]\n",
    "a=[num for ele in mat for num in ele]\n",
    "print(a)"
   ]
  },
  {
   "cell_type": "code",
   "execution_count": 23,
   "metadata": {},
   "outputs": [
    {
     "name": "stdout",
     "output_type": "stream",
     "text": [
      "{32, 35, 36, 39, 40, 19, 21, 23, 24, 29}\n",
      "5\n"
     ]
    }
   ],
   "source": [
    "import random\n",
    "li={ random.randint(15,45) for n in range(10) }\n",
    "print(li)\n",
    "count=len({num for num in li if num<30})\n",
    "print(count)\n",
    "\n",
    "\n"
   ]
  }
 ],
 "metadata": {
  "kernelspec": {
   "display_name": "Python 3",
   "language": "python",
   "name": "python3"
  },
  "language_info": {
   "codemirror_mode": {
    "name": "ipython",
    "version": 3
   },
   "file_extension": ".py",
   "mimetype": "text/x-python",
   "name": "python",
   "nbconvert_exporter": "python",
   "pygments_lexer": "ipython3",
   "version": "3.11.1"
  },
  "orig_nbformat": 4,
  "vscode": {
   "interpreter": {
    "hash": "b98f472bb8ba48098397e3b897b5be76f7bf0e62d98845cdb0e8066dc5677259"
   }
  }
 },
 "nbformat": 4,
 "nbformat_minor": 2
}
