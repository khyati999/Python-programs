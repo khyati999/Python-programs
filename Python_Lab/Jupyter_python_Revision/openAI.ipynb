{
 "cells": [
  {
   "cell_type": "code",
   "execution_count": 1,
   "metadata": {},
   "outputs": [
    {
     "name": "stdout",
     "output_type": "stream",
     "text": [
      "Collecting openaiNote: you may need to restart the kernel to use updated packages.\n",
      "\n",
      "  Downloading openai-0.27.8-py3-none-any.whl (73 kB)\n",
      "                                              0.0/73.6 kB ? eta -:--:--\n",
      "     ---------------------------------------- 73.6/73.6 kB 4.0 MB/s eta 0:00:00\n",
      "Requirement already satisfied: requests>=2.20 in c:\\users\\hp\\appdata\\local\\programs\\python\\python311\\lib\\site-packages (from openai) (2.28.2)\n",
      "Collecting tqdm (from openai)\n",
      "  Downloading tqdm-4.65.0-py3-none-any.whl (77 kB)\n",
      "                                              0.0/77.1 kB ? eta -:--:--\n",
      "     -------------------------------          61.4/77.1 kB 1.7 MB/s eta 0:00:01\n",
      "     ---------------------------------------- 77.1/77.1 kB 1.1 MB/s eta 0:00:00\n",
      "Collecting aiohttp (from openai)\n",
      "  Downloading aiohttp-3.8.4-cp311-cp311-win_amd64.whl (317 kB)\n",
      "                                              0.0/317.2 kB ? eta -:--:--\n",
      "     ----------                              81.9/317.2 kB 4.5 MB/s eta 0:00:01\n",
      "     --------------                         122.9/317.2 kB 1.8 MB/s eta 0:00:01\n",
      "     --------------------------             225.3/317.2 kB 1.5 MB/s eta 0:00:01\n",
      "     ------------------------------------   307.2/317.2 kB 1.9 MB/s eta 0:00:01\n",
      "     ------------------------------------   307.2/317.2 kB 1.9 MB/s eta 0:00:01\n",
      "     ------------------------------------   307.2/317.2 kB 1.9 MB/s eta 0:00:01\n",
      "     ------------------------------------   307.2/317.2 kB 1.9 MB/s eta 0:00:01\n",
      "     ------------------------------------   307.2/317.2 kB 1.9 MB/s eta 0:00:01\n",
      "     ------------------------------------   307.2/317.2 kB 1.9 MB/s eta 0:00:01\n",
      "     ------------------------------------   307.2/317.2 kB 1.9 MB/s eta 0:00:01\n",
      "     ------------------------------------   307.2/317.2 kB 1.9 MB/s eta 0:00:01\n",
      "     ------------------------------------   307.2/317.2 kB 1.9 MB/s eta 0:00:01\n",
      "     ------------------------------------ 317.2/317.2 kB 516.8 kB/s eta 0:00:00\n",
      "Requirement already satisfied: charset-normalizer<4,>=2 in c:\\users\\hp\\appdata\\local\\programs\\python\\python311\\lib\\site-packages (from requests>=2.20->openai) (3.0.1)\n",
      "Requirement already satisfied: idna<4,>=2.5 in c:\\users\\hp\\appdata\\local\\programs\\python\\python311\\lib\\site-packages (from requests>=2.20->openai) (3.4)\n",
      "Requirement already satisfied: urllib3<1.27,>=1.21.1 in c:\\users\\hp\\appdata\\local\\programs\\python\\python311\\lib\\site-packages (from requests>=2.20->openai) (1.26.14)\n",
      "Requirement already satisfied: certifi>=2017.4.17 in c:\\users\\hp\\appdata\\local\\programs\\python\\python311\\lib\\site-packages (from requests>=2.20->openai) (2022.12.7)\n",
      "Requirement already satisfied: attrs>=17.3.0 in c:\\users\\hp\\appdata\\local\\programs\\python\\python311\\lib\\site-packages (from aiohttp->openai) (22.2.0)\n",
      "Collecting multidict<7.0,>=4.5 (from aiohttp->openai)\n",
      "  Downloading multidict-6.0.4-cp311-cp311-win_amd64.whl (28 kB)\n",
      "Collecting async-timeout<5.0,>=4.0.0a3 (from aiohttp->openai)\n",
      "  Downloading async_timeout-4.0.2-py3-none-any.whl (5.8 kB)\n",
      "Collecting yarl<2.0,>=1.0 (from aiohttp->openai)\n",
      "  Downloading yarl-1.9.2-cp311-cp311-win_amd64.whl (60 kB)\n",
      "                                              0.0/60.2 kB ? eta -:--:--\n",
      "                                              0.0/60.2 kB ? eta -:--:--\n",
      "     ------                                   10.2/60.2 kB ? eta -:--:--\n",
      "     -------------------                    30.7/60.2 kB 435.7 kB/s eta 0:00:01\n",
      "     -------------------------------------- 60.2/60.2 kB 454.3 kB/s eta 0:00:00\n",
      "Collecting frozenlist>=1.1.1 (from aiohttp->openai)\n",
      "  Downloading frozenlist-1.3.3-cp311-cp311-win_amd64.whl (32 kB)\n",
      "Collecting aiosignal>=1.1.2 (from aiohttp->openai)\n",
      "  Downloading aiosignal-1.3.1-py3-none-any.whl (7.6 kB)\n",
      "Requirement already satisfied: colorama in c:\\users\\hp\\appdata\\local\\programs\\python\\python311\\lib\\site-packages (from tqdm->openai) (0.4.6)\n",
      "Installing collected packages: tqdm, multidict, frozenlist, async-timeout, yarl, aiosignal, aiohttp, openai\n",
      "Successfully installed aiohttp-3.8.4 aiosignal-1.3.1 async-timeout-4.0.2 frozenlist-1.3.3 multidict-6.0.4 openai-0.27.8 tqdm-4.65.0 yarl-1.9.2\n"
     ]
    }
   ],
   "source": [
    "pip install openai"
   ]
  },
  {
   "cell_type": "code",
   "execution_count": null,
   "metadata": {},
   "outputs": [],
   "source": [
    "import openai"
   ]
  }
 ],
 "metadata": {
  "kernelspec": {
   "display_name": "Python 3",
   "language": "python",
   "name": "python3"
  },
  "language_info": {
   "codemirror_mode": {
    "name": "ipython",
    "version": 3
   },
   "file_extension": ".py",
   "mimetype": "text/x-python",
   "name": "python",
   "nbconvert_exporter": "python",
   "pygments_lexer": "ipython3",
   "version": "3.11.1"
  },
  "orig_nbformat": 4
 },
 "nbformat": 4,
 "nbformat_minor": 2
}
