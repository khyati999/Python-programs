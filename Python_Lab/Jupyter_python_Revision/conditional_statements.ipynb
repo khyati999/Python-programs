{
 "cells": [
  {
   "cell_type": "code",
   "execution_count": 3,
   "metadata": {},
   "outputs": [
    {
     "name": "stdout",
     "output_type": "stream",
     "text": [
      "Age is greater\n"
     ]
    }
   ],
   "source": [
    "age = 19\n",
    "if(age<=18):\n",
    "    print(\"Sign Up to Application\")\n",
    "else:\n",
    "    print(\"Age is greater\")"
   ]
  },
  {
   "cell_type": "code",
   "execution_count": 6,
   "metadata": {},
   "outputs": [
    {
     "name": "stdout",
     "output_type": "stream",
     "text": [
      "Sign Up\n"
     ]
    }
   ],
   "source": [
    "age = 17\n",
    "if(age==18):\n",
    "    print(\"Sign Up to Application\")\n",
    "elif(age==17):\n",
    "    print(\"Sign Up\")\n",
    "else:\n",
    "    print(\"Age is greater\")"
   ]
  },
  {
   "cell_type": "markdown",
   "metadata": {},
   "source": []
  },
  {
   "cell_type": "code",
   "execution_count": 8,
   "metadata": {},
   "outputs": [
    {
     "name": "stdout",
     "output_type": "stream",
     "text": [
      "Hello23\n"
     ]
    }
   ],
   "source": [
    "age=23\n",
    "if(age==23):\n",
    "    print(\"Hello23\")\n",
    "elif (age>=20 and age <25):\n",
    "    print(\"Hey\")\n",
    "\n",
    "else:\n",
    "    print(\"No entry\")"
   ]
  },
  {
   "cell_type": "code",
   "execution_count": 11,
   "metadata": {},
   "outputs": [],
   "source": [
    "x=int(input())\n"
   ]
  },
  {
   "cell_type": "code",
   "execution_count": 12,
   "metadata": {},
   "outputs": [],
   "source": [
    "y=int(input())\n",
    "\n"
   ]
  },
  {
   "cell_type": "code",
   "execution_count": 13,
   "metadata": {},
   "outputs": [],
   "source": [
    "z=int(input())"
   ]
  },
  {
   "cell_type": "code",
   "execution_count": 14,
   "metadata": {},
   "outputs": [
    {
     "name": "stdout",
     "output_type": "stream",
     "text": [
      "z is greater\n"
     ]
    }
   ],
   "source": [
    "if(x>y and x>z):\n",
    "    print(\"x is greater\")\n",
    "elif(y>x and y>z):\n",
    "    print(\"y is greater\")\n",
    "elif(x==y==z):\n",
    "    print(\"x is greater\")\n",
    "else:\n",
    "    print(\"z is greater\")"
   ]
  },
  {
   "cell_type": "code",
   "execution_count": null,
   "metadata": {},
   "outputs": [],
   "source": []
  }
 ],
 "metadata": {
  "kernelspec": {
   "display_name": "Python 3",
   "language": "python",
   "name": "python3"
  },
  "language_info": {
   "codemirror_mode": {
    "name": "ipython",
    "version": 3
   },
   "file_extension": ".py",
   "mimetype": "text/x-python",
   "name": "python",
   "nbconvert_exporter": "python",
   "pygments_lexer": "ipython3",
   "version": "3.11.1"
  },
  "orig_nbformat": 4
 },
 "nbformat": 4,
 "nbformat_minor": 2
}
